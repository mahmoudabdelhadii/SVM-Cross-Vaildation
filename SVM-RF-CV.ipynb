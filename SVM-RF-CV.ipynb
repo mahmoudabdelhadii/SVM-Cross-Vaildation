{
  "cells": [
    {
      "cell_type": "code",
      "execution_count": 10,
      "metadata": {
        "id": "wKLRsKOHtYK3"
      },
      "outputs": [],
      "source": [
        "import numpy as np\n",
        "import random\n",
        "import pandas as pd\n",
        "\n",
        "np.random.seed(0)\n",
        "random.seed(0)"
      ]
    },
    {
      "cell_type": "markdown",
      "metadata": {},
      "source": [
        "### SMO function"
      ]
    },
    {
      "cell_type": "markdown",
      "metadata": {},
      "source": [
        "used for calculating the optimal hyperplane manually for classification"
      ]
    },
    {
      "cell_type": "code",
      "execution_count": 11,
      "metadata": {
        "id": "lJz751LUt8Ux"
      },
      "outputs": [],
      "source": [
        "#SMO function\n",
        "\n",
        "import numpy as np\n",
        "import random\n",
        "import time\n",
        "import math\n",
        "\n",
        "'''\n",
        "C: regularization parameter\n",
        "tol: numerical tolerance\n",
        "max-passes: maximum number of iterations over Larange multipliers without changing\n",
        "'''\n",
        "\n",
        "def linear_classifier(alphas, X, X_i, y, b):\n",
        "    return (alphas * y * np.inner(X_i, X)).sum() + b\n",
        "\n",
        "\n",
        "def compute_L(alpha_i, alpha_j, y_i, y_j, C):\n",
        "    if y_i != y_j:\n",
        "        return max(0, alpha_j - alpha_i)\n",
        "    else:\n",
        "        return max(0, alpha_i + alpha_j - C)\n",
        "\n",
        "\n",
        "def compute_H(alpha_i, alpha_j, y_i, y_j, C):\n",
        "    if y_i != y_j:\n",
        "        return min(C, C + alpha_j - alpha_i)\n",
        "    else:\n",
        "        return min(C, alpha_i + alpha_j)\n",
        "\n",
        "def calculate_eta(X_i, X_j):\n",
        "    i_j_inner = np.inner(X_i, X_j)\n",
        "    i_i_inner = np.inner(X_i, X_i)\n",
        "    j_j_inner = np.inner(X_j, X_j)\n",
        "\n",
        "    return 2 * i_j_inner - i_i_inner - j_j_inner\n",
        "\n",
        "\n",
        "def calculate_error(X_i, y_i, alphas, X, y, b):\n",
        "    f_x_i = linear_classifier(alphas, X, X_i, y, b)\n",
        "    E_i = f_x_i - y_i\n",
        "    \n",
        "    return E_i\n",
        "\n",
        "def clip_alpha_j(alpha_j, H, L):\n",
        "    if alpha_j > H:\n",
        "        return H\n",
        "    elif alpha_j < L:\n",
        "        return L\n",
        "    else:\n",
        "        return alpha_j\n",
        "\n",
        "\n",
        "def calculate_alpha_j(alpha_j, E_i, E_j, eta, y_j):\n",
        "    return alpha_j - ((y_j * (E_i - E_j)) / eta)\n",
        "\n",
        "\n",
        "def calculate_alpha_i(alpha_i, y_i, y_j, alpha_j_old, alpha_j):\n",
        "    return alpha_i + (y_i * y_j) * (alpha_j_old - alpha_j)\n",
        "\n",
        "\n",
        "def calculate_bs(b, X_i, y_i, alpha_i, alpha_j, E_i, E_j, X_j, y_j, alpha_i_old, alpha_j_old):\n",
        "    b_one = b - E_i - y_i * (alpha_i - alpha_i_old) * np.inner(X_i, X_i) - (y_j * (alpha_j - alpha_j_old)) * np.inner(X_i, X_j) \n",
        "    b_two = b - E_j - y_i * (alpha_i - alpha_i_old) * np.inner(X_i, X_j) - (y_j * (alpha_j - alpha_j_old)) * np.inner(X_j, X_j) \n",
        "\n",
        "    return b_one, b_two\n",
        "\n",
        "def compute_b(b_one, b_two, alpha_i, alpha_j, C, tol):\n",
        "    if alpha_i > tol and alpha_i < C - tol:\n",
        "        return b_one\n",
        "    elif alpha_j > tol and alpha_j < C - tol:\n",
        "        return b_two\n",
        "    else:\n",
        "        return (b_one + b_two) / 2\n",
        "\n",
        "def rand_j(m, i):\n",
        "    j = random.randint(0, m-1)\n",
        "\n",
        "    while i == j:\n",
        "        j = random.randint(0, m-1)\n",
        "\n",
        "    return j\n",
        "'''\n",
        "SMO optimization function\n",
        "'''\n",
        "def Simplified_smo(C, tol, max_passes, X, y):\n",
        "    m = X.shape[0]    \n",
        "    b = 0\n",
        "    alphas = np.zeros(m)\n",
        "    alphas_old = np.zeros(m)\n",
        "    passes = 0\n",
        "\n",
        "    while passes < max_passes:\n",
        "        num_changed_alphas = 0\n",
        "        for i in range(m):\n",
        "            E_i = calculate_error(X[i], y[i], alphas, X, y, b)\n",
        "            y_i_E_i = y[i] * E_i\n",
        "\n",
        "            if (y_i_E_i < (-1 * tol) and alphas[i] < C - tol) or (y_i_E_i > tol and alphas[i] > tol):\n",
        "                j = rand_j(m, i)\n",
        "                E_j = calculate_error(X[j], y[j], alphas, X, y, b)\n",
        "                alphas_old[i], alphas_old[j] = alphas[i], alphas[j]\n",
        "                L = compute_L(alphas[i], alphas[j], y[i], y[j], C)\n",
        "                H = compute_H(alphas[i], alphas[j], y[i], y[j], C)                \n",
        "\n",
        "                if L == H:\n",
        "                    continue\n",
        "\n",
        "                eta = calculate_eta(X[i], X[j])\n",
        "\n",
        "                if eta >= 0:\n",
        "                    continue\n",
        "\n",
        "                alphas[j] = clip_alpha_j(calculate_alpha_j(alphas[j], E_i, E_j, eta, y[j]), H, L)\n",
        "\n",
        "                if abs(alphas[j] - alphas_old[j]) < 0.000005:\n",
        "                    continue\n",
        "\n",
        "                alphas[i] = calculate_alpha_i(alphas[i], y[i], y[j], alphas_old[j], alphas[j])\n",
        "\n",
        "                b_one, b_two = calculate_bs(b, X[i], y[i], alphas[i], alphas[j], E_i, E_j, X[j], y[j], alphas_old[i], alphas_old[j])\n",
        "\n",
        "                b = compute_b(b_one, b_two, alphas[i], alphas[j], C, tol)\n",
        "                num_changed_alphas += 1\n",
        "        \n",
        "        if num_changed_alphas == 0:\n",
        "            passes += 1\n",
        "        else:\n",
        "            passes = 0\n",
        "\n",
        "    return alphas, b"
      ]
    },
    {
      "cell_type": "code",
      "execution_count": 26,
      "metadata": {
        "colab": {
          "base_uri": "https://localhost:8080/"
        },
        "id": "5Ldyh5ELuCQB",
        "outputId": "e6bc952b-c8b5-4773-e174-be968e767d98"
      },
      "outputs": [
        {
          "name": "stdout",
          "output_type": "stream",
          "text": [
            "alphas=[0.03171964 0.         0.13608909 0.         0.         0.\n",
            " 0.         0.16781717]\n",
            "b=-3.000029269908897\n"
          ]
        }
      ],
      "source": [
        "\n",
        "Xtrain = np.array([\n",
        "     [6,  -8 ,  1],\n",
        "     [6.5,-9,   1],\n",
        "     [9,  -8.5, 1],\n",
        "     [6.5,-9,   1],\n",
        "     [5,  -2.5,-1],\n",
        "     [8,  -4,  -1],\n",
        "     [9.5,-4,  -1],\n",
        "     [9,  -5,  -1]\n",
        "  \n",
        "])\n",
        "\n",
        "X = np.insert(Xtrain, 2,1, axis = 1)\n",
        "\n",
        "X = np.delete(Xtrain,2, axis = 1)\n",
        "X = np.delete(Xtrain,2, axis = 1)\n",
        "\n",
        "y = [1,1,1,1,-1,-1,-1,-1]\n",
        "max_passes = 1000000\n",
        "C= 1\n",
        "tol = 1e-5\n",
        "\n",
        "[alphas, b] = Simplified_smo(C, tol, max_passes, X, y)\n",
        "print('alphas=%s' % alphas)\n",
        "print('b=%s' % b)"
      ]
    },
    {
      "cell_type": "code",
      "execution_count": 13,
      "metadata": {
        "id": "-l1sJAdjvXd9"
      },
      "outputs": [],
      "source": [
        "import numpy as np # linear algebra\n",
        "import pandas as pd # data processing, CSV file I/O (e.g. pd.read_csv)\n",
        "import matplotlib.pyplot as plt # for data visualization\n",
        "import seaborn as sns; sns.set() # for statistical data visualization\n",
        "\n",
        "import sklearn.metrics as metrics\n",
        "%matplotlib inline"
      ]
    },
    {
      "cell_type": "code",
      "execution_count": 33,
      "metadata": {
        "id": "iAySRu7Zvdf7"
      },
      "outputs": [],
      "source": [
        "# load data\n",
        "train_data = pd.read_csv('train.csv')\n",
        "test_data = pd.read_csv('test.csv')\n",
        "\n",
        "# Set variables for the targets and features\n",
        "y_train = train_data['price_range']\n",
        "X_train = train_data.drop('price_range', axis=1)\n",
        "y_test = test_data['price_range']\n",
        "X_test = test_data.drop('price_range', axis=1)\n"
      ]
    },
    {
      "cell_type": "markdown",
      "metadata": {},
      "source": [
        "### Data normalization"
      ]
    },
    {
      "cell_type": "code",
      "execution_count": 32,
      "metadata": {
        "id": "NYplkul4vfwP"
      },
      "outputs": [],
      "source": [
        "#Normalize Data\n",
        "from sklearn.preprocessing import StandardScaler\n",
        "scaler = StandardScaler()\n",
        "X_train_norm1 = (X_train - X_train.mean(axis = 0))/ X_train.std(axis = 0)\n",
        "X_train_norm = scaler.fit_transform(X_train)\n",
        "#y_train_norm = (y_train - y_train.mean(axis = 0))/ y_train.std(axis = 0)\n",
        "\n",
        "X_test_norm1 = (X_test - X_train.mean(axis = 0))/ X_train.std(axis = 0)\n",
        "\n",
        "X_test_norm = scaler.transform(X_test)\n",
        "#y_test_norm = (y_test - y_test.mean(axis = 0))/ y_test.std(axis = 0)\n"
      ]
    },
    {
      "cell_type": "markdown",
      "metadata": {},
      "source": [
        "### Linear Kernel model"
      ]
    },
    {
      "cell_type": "markdown",
      "metadata": {
        "id": "uFsa8tl7x3fY"
      },
      "source": [
        "The linear kernel is written as $<x,x'>$.\n",
        "\n",
        "The parameter C, trades off misclassification of training examples against simplicity of the decision surface. A low C makes the decision surface smooth, while a high C aims at classifying all training examples correctly."
      ]
    },
    {
      "cell_type": "code",
      "execution_count": 16,
      "metadata": {
        "colab": {
          "base_uri": "https://localhost:8080/",
          "height": 527
        },
        "id": "N9qr-5UPvsjv",
        "outputId": "0027b17c-f0eb-4253-c619-46eb9e27b60c"
      },
      "outputs": [
        {
          "name": "stderr",
          "output_type": "stream",
          "text": [
            "/usr/local/lib/python3.7/dist-packages/sklearn/svm/_base.py:1208: ConvergenceWarning: Liblinear failed to converge, increase the number of iterations.\n",
            "  ConvergenceWarning,\n",
            "/usr/local/lib/python3.7/dist-packages/sklearn/svm/_base.py:1208: ConvergenceWarning: Liblinear failed to converge, increase the number of iterations.\n",
            "  ConvergenceWarning,\n",
            "/usr/local/lib/python3.7/dist-packages/sklearn/svm/_base.py:1208: ConvergenceWarning: Liblinear failed to converge, increase the number of iterations.\n",
            "  ConvergenceWarning,\n",
            "/usr/local/lib/python3.7/dist-packages/sklearn/svm/_base.py:1208: ConvergenceWarning: Liblinear failed to converge, increase the number of iterations.\n",
            "  ConvergenceWarning,\n",
            "/usr/local/lib/python3.7/dist-packages/sklearn/svm/_base.py:1208: ConvergenceWarning: Liblinear failed to converge, increase the number of iterations.\n",
            "  ConvergenceWarning,\n",
            "/usr/local/lib/python3.7/dist-packages/sklearn/svm/_base.py:1208: ConvergenceWarning: Liblinear failed to converge, increase the number of iterations.\n",
            "  ConvergenceWarning,\n",
            "/usr/local/lib/python3.7/dist-packages/sklearn/svm/_base.py:1208: ConvergenceWarning: Liblinear failed to converge, increase the number of iterations.\n",
            "  ConvergenceWarning,\n"
          ]
        },
        {
          "name": "stdout",
          "output_type": "stream",
          "text": [
            "[0.592, 0.604, 0.7, 0.792, 0.824, 0.844, 0.728, 0.782, 0.758, 0.758, 0.758]\n"
          ]
        },
        {
          "data": {
            "image/png": "[encoded data removed]",
            "text/plain": [
              "<Figure size 432x288 with 1 Axes>"
            ]
          },
          "metadata": {
            "needs_background": "light"
          },
          "output_type": "display_data"
        }
      ],
      "source": [
        "from sklearn.svm import LinearSVC\n",
        "from sklearn import metrics\n",
        "from matplotlib.ticker import ScalarFormatter\n",
        "# Train Linear kernel SVM for different values of C on train data\n",
        "Cs = [10e-5 , 10e-4,10e-3,10e-2,10e-1,10e0,10e1,10e2,10e3,10e4,10e5  ] # hyper-parameter candidates\n",
        "accuracy_scores_lsvc = []\n",
        "for c in Cs:\n",
        "  lsvc = LinearSVC(random_state = 7, C = c , max_iter= 1000 )\n",
        "  #Fit the model and get prediction and evalutation on testing data.\n",
        "  lsvc.fit( X_train_norm, y_train)\n",
        "  y_pred_lsvc = lsvc.predict(X_test_norm)\n",
        "  # Save your results\n",
        "  accuracy_scores_lsvc.append(metrics.accuracy_score(y_test,y_pred_lsvc))\n",
        "\n",
        "# Plot accuracy on test data\n",
        "print('linear SVC accuracy score =%s' % accuracy_scores_lsvc)\n",
        "x = range(len(Cs))\n",
        "plt.plot(x, accuracy_scores_lsvc, 'bo', x, accuracy_scores_lsvc, 'k')\n",
        "plt.xticks(x,Cs)\n",
        "plt.ylim(0, 1);"
      ]
    },
    {
      "cell_type": "markdown",
      "metadata": {
        "id": "GGfHpq1hx0Qy"
      },
      "source": [
        "### RBF kernel model"
      ]
    },
    {
      "cell_type": "markdown",
      "metadata": {
        "id": "8sFlcHZtxYa-"
      },
      "source": [
        "The RBF kernel is expressed as $exp(γ\\|x-x' \\|)$.\n",
        "\n",
        "$\\gamma$ defines how much influence a single training example has. The larger $\\gamma$ is, the closer other examples must be to be affected."
      ]
    },
    {
      "cell_type": "code",
      "execution_count": 17,
      "metadata": {
        "colab": {
          "base_uri": "https://localhost:8080/",
          "height": 289
        },
        "id": "QKzzcdDSv97y",
        "outputId": "a8ce69ec-f62f-41b8-bb6a-7f6897a2d1a6"
      },
      "outputs": [
        {
          "name": "stdout",
          "output_type": "stream",
          "text": [
            "[0.242, 0.71, 0.914, 0.806, 0.246, 0.242, 0.242, 0.242, 0.242, 0.242]\n"
          ]
        },
        {
          "data": {
            "image/png": "[encoded data removed]",
            "text/plain": [
              "<Figure size 432x288 with 1 Axes>"
            ]
          },
          "metadata": {
            "needs_background": "light"
          },
          "output_type": "display_data"
        }
      ],
      "source": [
        "from sklearn.svm import SVC\n",
        "\n",
        "# Train RBF kernel SVM for different values of gamma on train data\n",
        "accuracy_scores_lsvc = []\n",
        "gammas = [ 10e-5 , 10e-4,10e-3,10e-2,10e-1,10e0,10e1,10e2,10e3,10e4  ] #hyper-parameter candidates\n",
        "accuracy_scores_rsvc =[]\n",
        "for g in gammas:\n",
        "  rsvc = SVC(random_state = 7, C=1.0, kernel='rbf', gamma = g)\n",
        "  # Fit the model and get prediction and evalutation on testing data.\n",
        "  rsvc.fit(X_train_norm,y_train)\n",
        "  y_pred_rsvc = rsvc.predict(X_test_norm)\n",
        "  # Save your results\n",
        "  accuracy_scores_rsvc.append(metrics.accuracy_score(y_test,y_pred_rsvc))\n",
        "\n",
        "# Plot accuracy on test data\n",
        "print('rbf kernel accuracy score =%s' % accuracy_scores_rsvc)\n",
        "x = range(len(gammas))\n",
        "plt.plot(x, accuracy_scores_rsvc, 'bo', x, accuracy_scores_rsvc, 'k')\n",
        "plt.xticks(x,gammas)\n",
        "plt.ylim(0, 1);"
      ]
    },
    {
      "cell_type": "markdown",
      "metadata": {
        "id": "soccXWxiwnVD"
      },
      "source": [
        "### Random Forrest model"
      ]
    },
    {
      "cell_type": "code",
      "execution_count": 18,
      "metadata": {
        "colab": {
          "base_uri": "https://localhost:8080/",
          "height": 306
        },
        "id": "U389YEGlwml_",
        "outputId": "f73686fe-6640-4e5a-cc8d-80d885992ee6"
      },
      "outputs": [
        {
          "name": "stdout",
          "output_type": "stream",
          "text": [
            "(500,)\n",
            "[0.772, 0.86, 0.864, 0.87]\n"
          ]
        },
        {
          "data": {
            "image/png": "[encoded data removed]",
            "text/plain": [
              "<Figure size 432x288 with 1 Axes>"
            ]
          },
          "metadata": {
            "needs_background": "light"
          },
          "output_type": "display_data"
        }
      ],
      "source": [
        "from sklearn.ensemble import RandomForestClassifier\n",
        "\n",
        "n_trees = [10, 100,500,1000] # fill in the hyper-parameter candidates\n",
        "#  Train Random Forest for different values of number of estimators on train data\n",
        "accuracy_scores_rf =[]\n",
        "for n in n_trees:\n",
        "  rf = RandomForestClassifier(random_state = 7, n_estimators=n)\n",
        "  # Fit the model and get prediction and evalutation on testing data.\n",
        "\n",
        "  rf.fit(X_train_norm,y_train)\n",
        "  #  Save your results\n",
        "  y_pred_rf = rf.predict(X_test_norm)\n",
        "  accuracy_scores_rf.append(metrics.accuracy_score(y_test,y_pred_rf))\n",
        "print(y_test.shape)\n",
        "#  Plot accuracy on test data\n",
        "print('Random forest accuracy score =%s' % accuracy_scores_rf)\n",
        "x = range(len(n_trees))\n",
        "plt.plot(x, accuracy_scores_rf, 'bo', x, accuracy_scores_rf, 'k')\n",
        "plt.xticks(x,n_trees)\n",
        "plt.ylim(0, 1);\n"
      ]
    },
    {
      "cell_type": "markdown",
      "metadata": {
        "id": "2QKi5ifswxrm"
      },
      "source": [
        "# 5 Fold Cross Validation"
      ]
    },
    {
      "cell_type": "markdown",
      "metadata": {},
      "source": [
        "### Linear SVC model Cross validation"
      ]
    },
    {
      "cell_type": "code",
      "execution_count": 29,
      "metadata": {
        "colab": {
          "base_uri": "https://localhost:8080/"
        },
        "id": "xpiYH_0Fww28",
        "outputId": "bb1489f9-76b9-46d9-e4e6-1fb607b62263"
      },
      "outputs": [
        {
          "name": "stderr",
          "output_type": "stream",
          "text": [
            "/usr/local/lib/python3.7/dist-packages/sklearn/svm/_base.py:1208: ConvergenceWarning: Liblinear failed to converge, increase the number of iterations.\n",
            "  ConvergenceWarning,\n",
            "/usr/local/lib/python3.7/dist-packages/sklearn/svm/_base.py:1208: ConvergenceWarning: Liblinear failed to converge, increase the number of iterations.\n",
            "  ConvergenceWarning,\n",
            "/usr/local/lib/python3.7/dist-packages/sklearn/svm/_base.py:1208: ConvergenceWarning: Liblinear failed to converge, increase the number of iterations.\n",
            "  ConvergenceWarning,\n",
            "/usr/local/lib/python3.7/dist-packages/sklearn/svm/_base.py:1208: ConvergenceWarning: Liblinear failed to converge, increase the number of iterations.\n",
            "  ConvergenceWarning,\n"
          ]
        },
        {
          "name": "stdout",
          "output_type": "stream",
          "text": [
            ">acc=0.833, est=0.837, cfg={'C': 100.0}\n"
          ]
        },
        {
          "name": "stderr",
          "output_type": "stream",
          "text": [
            "/usr/local/lib/python3.7/dist-packages/sklearn/svm/_base.py:1208: ConvergenceWarning: Liblinear failed to converge, increase the number of iterations.\n",
            "  ConvergenceWarning,\n"
          ]
        }
      ],
      "source": [
        "from sklearn.model_selection import GridSearchCV\n",
        "from sklearn.model_selection import KFold\n",
        "n_folds = 5\n",
        "\n",
        "# the cross-validation procedure\n",
        "cv = KFold(n_splits=n_folds, shuffle=True, random_state=1)\n",
        "results = list()\n",
        "for train_ix, test_ix in cv.split(X_train_norm):\n",
        "\t# split data\n",
        "\tX_train1, X_test1 = X_train_norm[train_ix, :], X_train_norm[test_ix, :]\n",
        "\ty_train1, y_test1 = y_train[train_ix], y_train[test_ix]\n",
        "\t# define the model\n",
        "\tmodel = LinearSVC(random_state = 7 , max_iter= 10000 )\n",
        "\t# define search space\n",
        "\tspace = dict()\n",
        "\tspace['C'] = Cs\n",
        "\t# define search\n",
        "\tsearch = GridSearchCV(model, space, scoring='accuracy', n_jobs=-1, cv=cv)\n",
        "\t# execute search\n",
        "\tresult = search.fit(X_train1, y_train1)\n",
        "\t# get the best performing model fit on the whole training set\n",
        "\tbest_model = result.best_estimator_\n",
        "\t# evaluate model on the hold out dataset\n",
        "\tyhat = best_model.predict(X_test1)\n",
        "\t# evaluate the model\n",
        "\tacc = metrics.accuracy_score(y_test1, yhat)\n",
        "\t# store the result\n",
        "results.append(acc)\n",
        "\n",
        "# report progress\n",
        "print('>acc=%.3f, est=%.3f, cfg=%s' % (acc, result.best_score_, result.best_params_))\n",
        "\n"
      ]
    },
    {
      "cell_type": "markdown",
      "metadata": {},
      "source": [
        "### RBF model Cross validation"
      ]
    },
    {
      "cell_type": "code",
      "execution_count": 30,
      "metadata": {
        "colab": {
          "base_uri": "https://localhost:8080/"
        },
        "id": "TCscKAQJuV1o",
        "outputId": "1b5f5e24-5286-4035-ae92-06f693121387"
      },
      "outputs": [
        {
          "name": "stdout",
          "output_type": "stream",
          "text": [
            ">acc=0.927, est=0.891, cfg={'gamma': 0.01}\n"
          ]
        }
      ],
      "source": [
        "for train_ix, test_ix in cv.split(X_train_norm):\n",
        "\t# split data\n",
        "\tX_train1, X_test1 = X_train_norm[train_ix, :], X_train_norm[test_ix, :]\n",
        "\ty_train1, y_test1 = y_train[train_ix], y_train[test_ix]\n",
        "\t# define the model\n",
        "\tmodel = SVC(random_state = 7, C=1.0, kernel='rbf')\n",
        "\t# define search space\n",
        "\tspace = dict()\n",
        "\tspace['gamma'] = gammas\n",
        "\t# define search\n",
        "\tsearch = GridSearchCV(model, space, scoring='accuracy', n_jobs=-1, cv=cv)\n",
        "\t# execute search\n",
        "\tresult = search.fit(X_train1, y_train1)\n",
        "\t# get the best performing model fit on the whole training set\n",
        "\tbest_model = result.best_estimator_\n",
        "\t# evaluate model on the hold out dataset\n",
        "\tyhat = best_model.predict(X_test1)\n",
        "\t# evaluate the model\n",
        "\tacc = metrics.accuracy_score(y_test1, yhat)\n",
        "\t# store the result\n",
        "results.append(acc)\n",
        "# report progress\n",
        "print('>acc=%.3f, est=%.3f, cfg=%s' % (acc, result.best_score_, result.best_params_))\n"
      ]
    },
    {
      "cell_type": "markdown",
      "metadata": {},
      "source": [
        "### Random Forrest Cross Validation"
      ]
    },
    {
      "cell_type": "code",
      "execution_count": 31,
      "metadata": {
        "colab": {
          "base_uri": "https://localhost:8080/"
        },
        "id": "3icSIFHtvG2r",
        "outputId": "458d7913-4e21-461e-b375-d8457c77c4e4"
      },
      "outputs": [
        {
          "name": "stdout",
          "output_type": "stream",
          "text": [
            ">acc=0.887, est=0.880, cfg={'n_estimators': 1000}\n",
            "Linear SVC             rbf kernel       Random forrest\n",
            "[0.8333333333333334, 0.9266666666666666, 0.8866666666666667]\n"
          ]
        }
      ],
      "source": [
        "for train_ix, test_ix in cv.split(X_train_norm):\n",
        "\t# split data\n",
        "\tX_train1, X_test1 = X_train_norm[train_ix, :], X_train_norm[test_ix, :]\n",
        "\ty_train1, y_test1 = y_train[train_ix], y_train[test_ix]\n",
        "\t# define the model\n",
        "\tmodel = RandomForestClassifier(random_state = 7)\n",
        "\t# define search space\n",
        "\tspace = dict()\n",
        "\tspace['n_estimators'] = n_trees\n",
        "\t# define search\n",
        "\tsearch = GridSearchCV(model, space, scoring='accuracy', n_jobs=-1, cv=cv)\n",
        "\t# execute search\n",
        "\tresult = search.fit(X_train1, y_train1)\n",
        "\t# get the best performing model fit on the whole training set\n",
        "\tbest_model = result.best_estimator_\n",
        "\t# evaluate model on the hold out dataset\n",
        "\tyhat = best_model.predict(X_test1)\n",
        "\t# evaluate the model\n",
        "\tacc = metrics.accuracy_score(y_test1, yhat)\n",
        "\t# store the result\n",
        "results.append(acc)\n",
        "# report progress\n",
        "print('>acc=%.3f, est=%.3f, cfg=%s' % (acc, result.best_score_, result.best_params_))\n",
        "print('Linear SVC             rbf kernel       Random forrest')\n",
        "print(results)"
      ]
    }
  ],
  "metadata": {
    "colab": {
      "collapsed_sections": [],
      "name": "ELEC400M_HW2_Example_Code.ipynb",
      "provenance": []
    },
    "kernelspec": {
      "display_name": "Python 3",
      "name": "python3"
    },
    "language_info": {
      "name": "python"
    }
  },
  "nbformat": 4,
  "nbformat_minor": 0
}
